{
 "cells": [
  {
   "attachments": {},
   "cell_type": "markdown",
   "metadata": {},
   "source": [
    "# Introduction\n",
    "\n",
    "Web map and feature services (WMS and WFS) are powerful tools that revolutionize the way we interact with geospatial data.\n",
    "\n",
    "These services provide users with seamless access to a vast array of geospatial information, ranging from basemaps and satellite imagery to weather data and demographic information. \n",
    "\n",
    "With web map and feature services, users can easily integrate geospatial data into their applications, visualize data in a geographic context, and perform complex spatial analysis tasks.\n",
    "\n",
    "These services eliminate the need for users to store and process massive datasets locally, as the data is hosted and maintained by the service providers.\n",
    "\n",
    "Notable examples include Google Maps as a WMS, offering basemaps, satellite imagery, and real-time traffic information, and GeoServer as an open-source WFS for sharing and analyzing vector geospatial data.\n",
    "\n",
    "By leveraging web map and feature services, users can unlock the full potential of geospatial data, gaining insights and making informed decisions based on the spatial relationships and patterns present in the data.\n",
    "\n",
    "## Types of Maps and Features\n",
    "\n",
    "Here are some common types of maps and features that can be accessed through web map services (WMS) and web feature services (WFS):\n",
    "\n",
    "- Street: Visual representation of roads, streets, and urban infrastructure.\n",
    "- Topographic: Displays terrain features, contour lines, elevation, and landforms.\n",
    "- Satellite Imagery: Uses aerial or satellite imagery for a realistic view of the Earth's surface.\n",
    "- Weather: Shows real-time or forecasted weather conditions and meteorological data.\n",
    "- Hydrographic: Emphasizes water-related features like rivers, lakes, coastlines, and oceans.\n",
    "- Fire: Fire basemaps focus on monitoring and visualizing fire incidents, fire risk areas, and fire behavior.\n",
    "- Radar: Incorporates radar data to visualize weather phenomena such as precipitation intensity and storms.\n",
    "- Transportation: Focuses on transportation infrastructure like roads, highways, railways, airports, and transit routes.\n",
    "- Hydrographic: Highlights water-related features such as rivers, lakes, coastlines, and oceans.\n",
    "- Geological: Displays geological formations, rock types, and geological features.\n",
    "- Seismic: Focuses on seismic activity, fault lines, and earthquake-prone areas.\n",
    "- Soil and Agriculture: Depicts soil types, fertility, crop distribution, and agricultural practices.\n",
    "- Land Use and Land Cover: Showcases land use classification and distribution, including urban areas, forests, agricultural lands, and water bodies.\n",
    "- Ecological: Highlights ecosystems, biodiversity hotspots, protected areas, and ecological features.\n",
    "\n",
    "## Service Providers\n",
    "\n",
    "Google Maps: Google Maps offers web map services with a wide range of basemaps, satellite imagery, and real-time traffic information. It is a popular choice for various applications, including navigation, location-based services, and spatial analysis.\n",
    "\n",
    "OpenStreetMap: OpenStreetMap is an open-source web map service that provides free and editable map data contributed by users worldwide. It offers basemaps, street-level details, and various overlays, making it a versatile choice for mapping applications.\n",
    "\n",
    "NASA Earth Observing System Data and Information System (EOSDIS): NASA EOSDIS provides web map services that offer access to Earth observation data, satellite imagery, and environmental datasets. These services support scientific research, climate monitoring, and natural resource management.\n",
    "\n",
    "National Oceanic and Atmospheric Administration (NOAA): NOAA provides web map services that focus on weather, climate, and oceanographic data. These services offer real-time and historical weather information, storm tracking, oceanic conditions, and marine data for applications such as weather forecasting, environmental monitoring, and marine navigation.\n",
    "\n",
    "United States Geological Survey (USGS): USGS offers web map services that provide access to a wide range of geospatial data, including topographic maps, satellite imagery, geologic maps, and elevation data. These services support geological research, land management, and hazard assessment.\n",
    "\n",
    "European Space Agency (ESA): ESA offers web map services that provide access to satellite imagery and Earth observation data. These services enable users to monitor environmental changes, study land cover and land use, and analyze various geospatial phenomena.\n",
    "\n",
    "British Geological Survey (BGS): BGS provides web map services that offer geological data, including geological maps, borehole information, and geophysical data. These services support geological research, exploration, and hazard assessment.\n",
    "\n",
    "CGIAR-CSI (Consultative Group for International Agricultural Research - Consortium for Spatial Information): CGIAR-CSI offers web map services that provide access to geospatial data related to agriculture, including land suitability maps, climate data, and crop distribution information. These services support agricultural research, food security analysis, and sustainable land management.\n",
    "\n",
    "## WMS vs WFS\n",
    "\n",
    "Web map services (WMS) primarily focus on serving map imagery or basemaps. They provide pre-rendered map images in the form of tiles that can be displayed and layered on top of each other to form a complete map. These basemaps typically include features like roads, buildings, and landmarks, and are often used for visual reference and navigation.\n",
    "\n",
    "On the other hand, web feature services (WFS) are designed to serve geospatial feature data rather than map imagery. They provide access to individual geographic features such as points, lines, and polygons, along with their associated attributes and geometry information. Web feature services allow users to query, retrieve, and interact with these features, making them suitable for applications that require more detailed spatial analysis or data manipulation."
   ]
  },
  {
   "attachments": {},
   "cell_type": "markdown",
   "metadata": {},
   "source": [
    "---"
   ]
  },
  {
   "attachments": {},
   "cell_type": "markdown",
   "metadata": {},
   "source": [
    "## Summary\n",
    "\n",
    "Web map and feature services (WMS / WFS) revolutionize geospatial data interaction. These services grant users seamless access to diverse geospatial information, from basemaps and satellite imagery to weather data and demographics. Users can integrate geospatial data into their applications, visualize it geographically, and perform complex spatial analysis tasks.\n",
    "\n",
    "With web map and feature services, there's no need for users to locally store and process massive datasets. The data is hosted and maintained by service providers. Notable examples include Google Maps as a WMS, offering basemaps, satellite imagery, and real-time traffic information. GeoServer is an open-source WFS for sharing and analyzing vector geospatial data.\n",
    "\n",
    "Users unlock the full potential of geospatial data by leveraging web map and feature services. They gain insights and make informed decisions based on spatial relationships and patterns in the data\n",
    "\n",
    "In the next couple sections we’ll learn about how to use web map and feature services with GeoViews, Matplotlib, and CartoPy."
   ]
  },
  {
   "attachments": {},
   "cell_type": "markdown",
   "metadata": {},
   "source": [
    "## Resources and references\n",
    "\n",
    "- [NOAA Cloud GIS Web Services](https://www.weather.gov/gis/cloudgiswebservices)\n",
    "- [USGS National Map Services](https://apps.nationalmap.gov/services/)\n",
    "- [NASA EarthData Web Map Service](https://www.earthdata.nasa.gov/technology/web-map-service-wms)"
   ]
  }
 ],
 "metadata": {
  "kernelspec": {
   "display_name": "Python 3 (ipykernel)",
   "language": "python",
   "name": "python3"
  },
  "language_info": {
   "codemirror_mode": {
    "name": "ipython",
    "version": 3
   },
   "file_extension": ".py",
   "mimetype": "text/x-python",
   "name": "python",
   "nbconvert_exporter": "python",
   "pygments_lexer": "ipython3",
   "version": "3.11.0"
  },
  "nbdime-conflicts": {
   "local_diff": [
    {
     "diff": [
      {
       "diff": [
        {
         "key": 0,
         "op": "addrange",
         "valuelist": [
          "Python 3"
         ]
        },
        {
         "key": 0,
         "length": 1,
         "op": "removerange"
        }
       ],
       "key": "display_name",
       "op": "patch"
      }
     ],
     "key": "kernelspec",
     "op": "patch"
    }
   ],
   "remote_diff": [
    {
     "diff": [
      {
       "diff": [
        {
         "key": 0,
         "op": "addrange",
         "valuelist": [
          "Python3"
         ]
        },
        {
         "key": 0,
         "length": 1,
         "op": "removerange"
        }
       ],
       "key": "display_name",
       "op": "patch"
      }
     ],
     "key": "kernelspec",
     "op": "patch"
    }
   ]
  },
  "toc-autonumbering": false
 },
 "nbformat": 4,
 "nbformat_minor": 4
}
