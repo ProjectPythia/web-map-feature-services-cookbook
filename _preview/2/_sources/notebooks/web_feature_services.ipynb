{
 "cells": [
  {
   "attachments": {},
   "cell_type": "markdown",
   "metadata": {},
   "source": [
    "# Web Feature Services\n",
    "\n",
    "Web Feature Services (WFS) provide access to geospatial data in a more interactive and granular manner compared to Web Map Services (WMS). Instead of pre-rendered image tiles, WFS allows users to retrieve and manipulate individual features or objects on a map.\n",
    "\n",
    "## Feature Retrieval\n",
    "\n",
    "With WFS, users can query and retrieve specific features based on their spatial and attribute properties. The service provides a standardized interface for accessing and interacting with geospatial data, making it easier to integrate and analyze the information in various applications.\n",
    "\n",
    "## Feature Specifications\n",
    "\n",
    "Just like WMS, WFS also follows specific specifications that define its functionality and usage. The main specification for WFS is the OGC WFS standard (Open Geospatial Consortium Web Feature Service), which outlines the operations and formats supported by the service.\n",
    "\n",
    "The URL pattern for accessing WFS data typically includes parameters for specifying the requested feature type, output format, and any additional query parameters. Here's an example URL pattern:\n",
    "\n",
    "```\n",
    "http://example.com/wfs?service=WFS&version=1.1.0&request=GetFeature&typeName=layer_name&outputFormat=geojson\n",
    "```\n",
    "\n",
    "In this example, the URL includes parameters such as `service` (specifying the WFS service), `version` (specifying the WFS version), `request` (specifying the type of request, such as GetFeature), `typeName` (specifying the name of the layer or feature type to retrieve), and `outputFormat` (specifying the desired format of the returned data, such as GeoJSON).\n",
    "\n",
    "## Online WFS Viewers\n",
    "\n",
    "Online WFS viewers provide a user-friendly interface for accessing and interacting with geospatial data through web feature services.\n",
    "\n",
    "Here are some examples of online WFS viewers:\n",
    "\n",
    "NOAA Weather Viewer (https://viewer.weather.noaa.gov/): This viewer, provided by the National Oceanic and Atmospheric Administration (NOAA), allows users to access and visualize real-time weather information through web feature services. Users can query and retrieve specific weather features, such as radar data, forecasts, and satellite imagery, and overlay them with their own data for comprehensive weather analysis.\n",
    "\n",
    "National Map Viewer (https://apps.nationalmap.gov/viewer/): The National Map Viewer, developed by the United States Geological Survey (USGS), offers access to a wide range of geospatial data through web feature services. Users can retrieve and overlay various datasets, including topographic maps, aerial imagery, and elevation data, to explore and analyze different geographic features in combination with their own data.\n",
    "\n",
    "While existing online WFS viewers provide access to diverse geospatial data, the true power of web feature services (WFS) lies in the ability to overlay them with your own data. This capability empowers users to integrate and analyze geospatial information from multiple sources, facilitating advanced spatial analysis, decision-making, and data-driven insights.\n",
    "\n",
    "We will explore how to utilize this functionality further in the following sections.\n",
    "\n",
    "## Prerequisites\n",
    "\n",
    "The following packages are good to know, but not required, as we will be walking through them below.\n",
    "\n",
    "| Concepts | Importance | Notes |\n",
    "| --- | --- | --- |\n",
    "| [Intro to GeoViews](https://geoviews.org/) | Helpful | |\n",
    "| [Intro to Geopandas](https://geopandas.org/) | Helpful | |\n",
    "| [Intro to Panel](https://panel.holoviz.org/) | Helpful | |\n",
    "| [Intro to Requests](https://requests.readthedocs.io/en/latest/) | Helpful | |\n",
    "| [Intro to Cartopy](https://foundations.projectpythia.org/core/cartopy/cartopy.html) | Helpful | |\n",
    "\n",
    "- **Time to learn**: 10 minutes\n",
    "\n",
    "---"
   ]
  },
  {
   "attachments": {},
   "cell_type": "markdown",
   "metadata": {},
   "source": [
    "## Imports\n",
    "\n",
    "Let's start by importing a few packages, including Geopandas:\n",
    "\n",
    "GeoViews is a Python library that simplifies working with geographic data and enables the integration of geographical features to your maps.\n",
    "\n",
    "Hvplot is a plotting library built on top of GeoViews. It provides a concise and intuitive API for generating interactive plots and charts from geospatial data.\n",
    "\n",
    "CartoPy is a Python library specifically designed for map projections and geospatial data visualization. It offers a wide range of tools and functionalities to work with geospatial datasets, making it easier to generate maps with different projections.\n",
    "\n",
    "Panel is a powerful Python library that allows you to create interactive dashboards and applications. It provides flexible tools for building custom user interfaces with interactive controls, widgets, and layout components, enhancing the interactivity of your visualizations and data analysis workflows.\n",
    "\n",
    "Requests is a popular Python library for making HTTP requests. It simplifies sending HTTP requests to web servers and handling the responses. In the context of geospatial data visualization, requests can be used to retrieve data from web services, such as WMS (Web Map Service) endpoints, to integrate external data sources into your visualizations.\n",
    "\n",
    "Geopandas is a Python library used for working with geospatial data. With Geopandas, you can easily load shapefiles into a GeoDataFrame, which is a tabular data structure that combines the spatial information of the shapefile with its attribute data. This allows you to perform various geospatial operations and analyses on the data.\n",
    "\n",
    "To enable the Bokeh plotting backend for GeoViews, we use the line `gv.extension(\"bokeh\")`. GeoViews supports multiple plotting backends, including Bokeh and Matplotlib, giving you the flexibility to choose the one that suits your requirements best.\n",
    "\n",
    "Lastly, `pn.extension()` initializes the Panel library and sets up the necessary environment for creating interactive panels and dashboards. You can also specify configurations such as `sizing_mode=\"stretch_width\"` within `pn.extension()`."
   ]
  },
  {
   "cell_type": "code",
   "execution_count": null,
   "metadata": {},
   "outputs": [],
   "source": [
    "import geoviews as gv\n",
    "import hvplot.pandas\n",
    "import cartopy.crs as ccrs\n",
    "import panel as pn\n",
    "import requests\n",
    "import geopandas as gpd\n",
    "\n",
    "gv.extension(\"bokeh\")\n",
    "pn.extension()"
   ]
  },
  {
   "attachments": {},
   "cell_type": "markdown",
   "metadata": {},
   "source": [
    "## Accessing WFS\n",
    "\n",
    "Unlike WMS, where built-in sources exist, accessing WFS requires utilizing external sources. However, similar to WMS, there are several external sources available for WFS, such as NOAA, which can be easily accessed. Depending on the specific source, accessing WFS data may also be free of charge.\n",
    "\n",
    "For instance, if you prefer to obtain the CPC 6-10 day outlook as a GeoJSON instead of a tile image, you can utilize the gpd.read_file function, providing the relevant URL and specific parameters for the external tile service."
   ]
  },
  {
   "cell_type": "code",
   "execution_count": null,
   "metadata": {},
   "outputs": [],
   "source": [
    "outlook_url = \"\"\"\n",
    "https://idpgis.ncep.noaa.gov/arcgis/services/NWS_Climate_Outlooks/cpc_6_10_day_outlk/MapServer/WFSServer?\n",
    "service=WFS&\n",
    "version=2.0.0&\n",
    "request=GetFeature&\n",
    "typeName=cpc_6_10_day_outlk:CPC_6-10_Day_Temperature_Outlook&\n",
    "outputFormat=GEOJSON\n",
    "\"\"\".replace(\"\\n\", \"\")\n",
    "\n",
    "gdf = gpd.read_file(outlook_url)\n",
    "gdf.head()"
   ]
  },
  {
   "attachments": {},
   "cell_type": "markdown",
   "metadata": {},
   "source": [
    "## Visualizing WFS Data\n",
    "\n",
    "Now that it's serialized into a `gpd.GeoDataFrame`, visualizing the data is a trivial task with `hvplot`! Be sure to set `geo=True` to specify this is a geographic dataset."
   ]
  },
  {
   "cell_type": "code",
   "execution_count": null,
   "metadata": {},
   "outputs": [],
   "source": [
    "temp_outlook = gdf.hvplot(geo=True).opts(global_extent=True) * gv.feature.coastline()\n",
    "temp_outlook"
   ]
  },
  {
   "attachments": {},
   "cell_type": "markdown",
   "metadata": {},
   "source": [
    "You can also add tooltips and colors to show the category and probability upon hover!"
   ]
  },
  {
   "cell_type": "code",
   "execution_count": null,
   "metadata": {},
   "outputs": [],
   "source": [
    "temp_outlook = (\n",
    "    gdf.hvplot(\n",
    "        hover_cols=[\"cat\", \"prob\"],\n",
    "        tools=[\"hover\"],\n",
    "        cmap=[\"#ff6666\", \"#66b3ff\", \"#999999\"],\n",
    "        geo=True,\n",
    "    ).opts(global_extent=True)\n",
    "    * gv.feature.coastline()\n",
    ")\n",
    "temp_outlook"
   ]
  },
  {
   "attachments": {},
   "cell_type": "markdown",
   "metadata": {},
   "source": [
    "## Building WFS URLs\n",
    "\n",
    "You might also be wondering where that URL came from.\n",
    "\n",
    "Admittedly, it's not very straightforward, but by following these instructions, it becomes quite simple!\n",
    "\n",
    "1. Begin by searching \"NOAA WFS\" on Google.\n",
    "2. Locate and click on the first search result, which is \"[WebServices](https://www.weather.gov/gis/WebServices)\".\n",
    "3. Choose a specific link, such as \"[6 to 10 Day Precipitation and Temperature Outlooks](https://idpgis.ncep.noaa.gov/arcgis/rest/services/NWS_Climate_Outlooks/cpc_6_10_day_outlk/MapServer)\".\n",
    "4. On the top left of the page, click on the small text labeled \"[WFS](https://idpgis.ncep.noaa.gov/arcgis/services/NWS_Climate_Outlooks/cpc_6_10_day_outlk/MapServer/WFSServer?request=GetCapabilities&service=WFS)\".\n",
    "5. Remove the section \"request=GetCapabilities&\" from the URL.\n",
    "6. Copy the XML from get capabilities and **paste it alongside** the following prompt for ChatGPT: \"Create a valid WFS URL; be sure the output format is GEOJSON. https://idpgis.ncep.noaa.gov/arcgis/services/NWS_Climate_Outlooks/cpc_6_10_day_outlk/MapServer/WFSServer?service=WFS {xml_contents}\".\n",
    "7. By following these steps, you will obtain a URL that is ready to be fetched with `gpd.read_file`!"
   ]
  },
  {
   "attachments": {},
   "cell_type": "markdown",
   "metadata": {},
   "source": [
    "## Troubleshooting URLs\n",
    "\n",
    "If geopandas is unable to access the URL, try `requests` and see the contents.\n",
    "\n",
    "Here's an example of a URL using an incorrect type name."
   ]
  },
  {
   "cell_type": "code",
   "execution_count": null,
   "metadata": {},
   "outputs": [],
   "source": [
    "url = \"\"\"\n",
    "https://idpgis.ncep.noaa.gov/arcgis/services/NWS/USGS_Stream_Gauges/MapServer/WFSServer?\n",
    "service=WFS&\n",
    "request=GetFeature&\n",
    "typeNames=USGS_Stream_Gauges&\n",
    "outputFormat=GEOJSON\n",
    "\"\"\"\n",
    "\n",
    "resp = requests.get(url)\n",
    "print(resp.text)"
   ]
  },
  {
   "attachments": {},
   "cell_type": "markdown",
   "metadata": {},
   "source": [
    "To address this issue, you can either review the `GetCapabilities` documentation or simply input the URL along with the error into ChatGPT (the latter is usually easier).\n",
    "\n",
    "Here's the revised URL; notice the response is no longer the same."
   ]
  },
  {
   "cell_type": "code",
   "execution_count": null,
   "metadata": {},
   "outputs": [],
   "source": [
    "url = \"\"\"\n",
    "https://idpgis.ncep.noaa.gov/arcgis/services/NWS/USGS_Stream_Gauges/MapServer/WFSServer?\n",
    "service=WFS&\n",
    "request=GetFeature&\n",
    "typeNames=USGS_Stream_Gauges:Gauge_Locations&\n",
    "outputFormat=GEOJSON\n",
    "\"\"\"\n",
    "\n",
    "resp = requests.get(url)\n",
    "resp.text.splitlines()[:2]"
   ]
  },
  {
   "attachments": {},
   "cell_type": "markdown",
   "metadata": {},
   "source": [
    "## Filtering Properties\n",
    "\n",
    "Sometimes, all you need is a piece of the data--it'd be inefficient to load the entire the dataset in that case.\n",
    "\n",
    "Good news is that it's possible to filter by properties. Bad news is that the syntax is pretty difficult... without the aid of ChatGPT, that is!\n",
    "\n",
    "With ChatGPT, simply paste the URL you want to filter and comment that you want to filter by site_name \"SPRAGUE CREEK NEAR SPRAGUE, MANITOBA, CANADA\" as an example."
   ]
  },
  {
   "cell_type": "code",
   "execution_count": null,
   "metadata": {},
   "outputs": [],
   "source": [
    "url = \"\"\"\n",
    "https://idpgis.ncep.noaa.gov/arcgis/services/NWS/USGS_Stream_Gauges/MapServer/WFSServer?\n",
    "service=WFS&\n",
    "request=GetFeature&\n",
    "typeNames=USGS_Stream_Gauges:Gauge_Locations&\n",
    "outputFormat=GEOJSON&\n",
    "Filter=<Filter><PropertyIsEqualTo><PropertyName>site_name</PropertyName><Literal>SPRAGUE CREEK NEAR SPRAGUE, MANITOBA, CANADA</Literal></PropertyIsEqualTo></Filter>\n",
    "\"\"\"\n",
    "\n",
    "resp = requests.get(url)\n",
    "gdf = gpd.read_file(resp.text)\n",
    "gdf"
   ]
  },
  {
   "attachments": {},
   "cell_type": "markdown",
   "metadata": {},
   "source": [
    "## Overlaying Custom Data\n",
    "\n",
    "By overlaying WFS layers with your own data, you can gain insights into the outlook for specific locations.\n",
    "\n",
    "For instance, on its own, the coordinates (40.1N, -88.26W) may not mean much, but by overlaying WFS features, you now know the temperature outlook for that location."
   ]
  },
  {
   "cell_type": "code",
   "execution_count": null,
   "metadata": {},
   "outputs": [],
   "source": [
    "coord_point = gv.Points((-88.24, 40.1), crs=ccrs.PlateCarree()).opts(\n",
    "    color=\"yellow\", size=10, marker=\"x\"\n",
    ")\n",
    "\n",
    "temp_outlook * coord_point"
   ]
  },
  {
   "attachments": {},
   "cell_type": "markdown",
   "metadata": {},
   "source": [
    "## Summary\n",
    "\n",
    "Web Feature Services (WFS) offer an interactive and granular way to access geospatial data.\n",
    "\n",
    "With WFS, users can retrieve specific features based on their properties.\n",
    "\n",
    "It follows the OGC WFS standard and allows for the integration of various datasets.\n",
    "\n",
    "Online WFS viewers provide user-friendly interfaces for accessing and visualizing geospatial data.\n",
    "\n",
    "By overlaying WFS layers with custom data, users can gain valuable insights and unlock the full potential of geospatial information.\n",
    "\n",
    "For more examples of how to use WFS, check out the example workflows."
   ]
  }
 ],
 "metadata": {
  "kernelspec": {
   "display_name": "Python 3 (ipykernel)",
   "language": "python",
   "name": "python3"
  },
  "language_info": {
   "codemirror_mode": {
    "name": "ipython",
    "version": 3
   },
   "file_extension": ".py",
   "mimetype": "text/x-python",
   "name": "python",
   "nbconvert_exporter": "python",
   "pygments_lexer": "ipython3",
   "version": "3.11.4"
  },
  "nbdime-conflicts": {
   "local_diff": [
    {
     "diff": [
      {
       "diff": [
        {
         "key": 0,
         "op": "addrange",
         "valuelist": [
          "Python 3"
         ]
        },
        {
         "key": 0,
         "length": 1,
         "op": "removerange"
        }
       ],
       "key": "display_name",
       "op": "patch"
      }
     ],
     "key": "kernelspec",
     "op": "patch"
    }
   ],
   "remote_diff": [
    {
     "diff": [
      {
       "diff": [
        {
         "key": 0,
         "op": "addrange",
         "valuelist": [
          "Python3"
         ]
        },
        {
         "key": 0,
         "length": 1,
         "op": "removerange"
        }
       ],
       "key": "display_name",
       "op": "patch"
      }
     ],
     "key": "kernelspec",
     "op": "patch"
    }
   ]
  },
  "toc-autonumbering": false
 },
 "nbformat": 4,
 "nbformat_minor": 4
}
