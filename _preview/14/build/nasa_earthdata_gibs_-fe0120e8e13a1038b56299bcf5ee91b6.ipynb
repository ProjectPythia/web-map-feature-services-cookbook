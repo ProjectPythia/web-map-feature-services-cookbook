{
 "cells": [
  {
   "attachments": {},
   "cell_type": "markdown",
   "metadata": {},
   "source": [
    "<img src=\"images/gibs.png\" alt=\"NASA GIBS Logo\"></img>\n",
    "\n",
    "Image from [NASA Global Imagery Browse Services (GIBS) GitHub](https://github.com/nasa-gibs)"
   ]
  },
  {
   "attachments": {},
   "cell_type": "markdown",
   "metadata": {},
   "source": [
    "# NASA Earthdata GIBS Explorer\n",
    "\n",
    "Global Imagery Browse Services (GIBS) provides quick access to over 1,000 satellite imagery products, covering every part of the world. Most imagery is updated daily—available within a few hours after satellite observation, and some products span almost 30 years.\n",
    "\n",
    "Below demos how to use OWSLib, Geoviews, HoloViews, and Panel effectively to create our own GIBS explorer.\n",
    "\n",
    "## Prerequisites\n",
    "\n",
    "The following packages are good to know, but not required.\n",
    "\n",
    "| Concepts | Importance | Notes |\n",
    "| --| --| --- |\n",
    "| [Intro to GeoViews](https://geoviews.org/) | Helpful | Geographic visualizations |\n",
    "| [Intro to Panel](https://panel.holoviz.org/) | Helpful | Dashboard creations |\n",
    "| [Intro to OWSLib](https://owslib.readthedocs.io/en/latest/usage.html) | Helpful | WMS URLs |\n",
    "\n",
    "- **Time to learn**: 15 minutes\n",
    "\n",
    "---"
   ]
  },
  {
   "attachments": {},
   "cell_type": "markdown",
   "metadata": {},
   "source": [
    "## Imports\n",
    "\n",
    "Let’s first import a few packages.\n",
    "\n",
    "HoloViews and GeoViews is a Python library that facilitates the integration of WMS and other geospatial data sources with your own datasets. It provides a high-level interface for working with geographic data and simplifies the process of creating interactive visualizations.\n",
    "\n",
    "Pandas is a powerful Python library for data manipulation and analysis. It offers versatile data structures, such as Series and DataFrame, for working with structured data. However, here, we will only be using it to generate date time ranges.\n",
    "\n",
    "Panel is a Python library that offers a set of flexible and powerful tools for creating interactive dashboards and apps. It allows you to build custom user interfaces with interactive controls, widgets, and layout components, enabling rich interactivity for your visualizations and data analysis workflows.\n",
    "\n",
    "OWSLib is a Python library designed for client-side programming using the interface standards of the Open Geospatial Consortium (OGC) web services and their associated content models. Specifically, in this scenario, OWSLib will be utilized solely for the purpose of constructing URLs for WMS.\n",
    "\n",
    "The next line, `hv.extension(\"bokeh\")`, enables the Bokeh (interactive) plotting backend for GeoViews. GeoViews supports multiple plotting backends, such as Bokeh and Matplotlib, which allow you to choose the one that best suits your needs.\n",
    "\n",
    "Finally, `pn.extension()` initializes the panel library and sets up the necessary environment for creating interactive panels and dashboards. You may specify configurations like `sizing_mode=\"stretch_width\"` within `pn.extension()`."
   ]
  },
  {
   "cell_type": "code",
   "execution_count": null,
   "metadata": {},
   "outputs": [],
   "source": [
    "import panel as pn\n",
    "import pandas as pd\n",
    "import holoviews as hv\n",
    "import geoviews as gv\n",
    "from owslib.wms import WebMapService\n",
    "\n",
    "hv.extension(\"bokeh\")\n",
    "pn.extension(sizing_mode=\"stretch_width\")"
   ]
  },
  {
   "cell_type": "markdown",
   "metadata": {},
   "source": [
    "# Accessing GIBS\n",
    "\n",
    "Accessing NASA's GIBS (Global Imagery Browse Services) is well-documented, and you can find the documentation [here](https://nasa-gibs.github.io/gibs-api-docs/access-basics/).\n",
    "\n",
    "To access GIBS through the WMS (Web Map Service) endpoints, you can follow these steps:\n",
    "\n",
    "1. Find the WMS service endpoints by referring to the [service endpoints section](https://nasa-gibs.github.io/gibs-api-docs/access-basics/#service-endpoints_1) of the documentation. Look for the row that corresponds to the EPSG:3857 projection, as GeoViews currently supports that projection for tile services.\n",
    "\n",
    "2. Once you have identified the WMS service endpoint, copy one of the versions' [GetCapabilities URLs](https://gibs.earthdata.nasa.gov/wms/epsg3857/best/wms.cgi?SERVICE=WMS&REQUEST=GetCapabilities&VERSION=1.3.0). This URL provides information about the available layers and operations supported by the WMS service.\n",
    "\n",
    "3. Pass the GetCapabilities URL to the `WebMapService` class, which is a part of the `OWSLib` library. This class allows you to interact with the WMS service and retrieve the desired data.\n",
    "\n",
    "By following these steps, you will be able to access and work with the NASA GIBS data using the WMS service endpoints."
   ]
  },
  {
   "cell_type": "code",
   "execution_count": null,
   "metadata": {},
   "outputs": [],
   "source": [
    "base_resource_url = \"https://gibs.earthdata.nasa.gov/wms/epsg3857/best/wms.cgi?SERVICE=WMS&REQUEST=GetCapabilities&VERSION=1.3.0\"\n",
    "\n",
    "wms = WebMapService(base_resource_url)"
   ]
  },
  {
   "cell_type": "markdown",
   "metadata": {},
   "source": [
    "If we examine the contents, we can see that there are over a 1,000 layers (products) available!"
   ]
  },
  {
   "cell_type": "code",
   "execution_count": null,
   "metadata": {},
   "outputs": [],
   "source": [
    "wms_contents = pd.Series(wms.contents)\n",
    "print(len(wms_contents))\n",
    "wms_contents.index"
   ]
  },
  {
   "cell_type": "markdown",
   "metadata": {},
   "source": [
    "With a myriad of captivating options within your reach, why not embark on a journey of exploration and create your own interactive explorer?\n",
    "\n",
    "Now, you might be wondering, since there already exists an online explorer called [WorldView](https://worldview.earthdata.nasa.gov/), why bother reinventing the wheel? Well, here's the catch: by building your own explorer, you have the freedom to incorporate your own datasets into the mix!\n",
    "\n",
    "Not only does this provide a unique opportunity to personalize your exploration experience, but it's also a fantastic way to explore all the exciting options available while showcasing the incredible power of Python packages working in harmony!\n",
    "\n",
    "**The rendered output does not have a backend server supporting it, and will not update on change.** Instead, try it out interactively a slightly modified version (with a template) [here](https://ahuang11.github.io/nasa-earth-data-gibs-wms-explorer/)!"
   ]
  },
  {
   "cell_type": "code",
   "execution_count": null,
   "metadata": {},
   "outputs": [],
   "source": [
    "BASE_URL = \"https://gibs.earthdata.nasa.gov/wms/epsg3857/best/wms.cgi?SERVICE=WMS\"\n",
    "XMIN = -20037507.539400\n",
    "YMIN = 1638517.444800\n",
    "XMAX = 20037260.918700\n",
    "YMAX = 7714669.39460\n",
    "\n",
    "\n",
    "class NasaEarthDataGibsWmsExplorer:\n",
    "    def __init__(self):\n",
    "        self.wms = WebMapService(BASE_URL)\n",
    "        layers = sorted(self.wms.contents)\n",
    "        self.products_layers = {\"Miscellaneous\": []}\n",
    "        for layer in layers:\n",
    "            if \"_\" in layer:\n",
    "                product, product_layer = layer.split(\"_\", 1)\n",
    "                if product not in self.products_layers:\n",
    "                    self.products_layers[product] = []\n",
    "                self.products_layers[product].append(product_layer)\n",
    "            else:\n",
    "                self.products_layers[\"Miscellaneous\"].append(layer)\n",
    "\n",
    "        # create widgets\n",
    "        self.product_select = pn.widgets.Select(\n",
    "            name=\"Product\",\n",
    "            options=sorted(self.products_layers),\n",
    "        )\n",
    "        self.layer_select = pn.widgets.Select(\n",
    "            name=\"Layer\",\n",
    "            options=sorted(self.products_layers[self.product_select.value]),\n",
    "        )\n",
    "        self.time_slider = pn.widgets.DiscreteSlider(name=\"Time\", margin=(5, 16))\n",
    "        self.refresh_button = pn.widgets.Button(name=\"Refresh\", button_type=\"light\")\n",
    "        self.image_pane = pn.pane.Image()  # for colorbar / legend\n",
    "        self.holoviews_pane = pn.pane.HoloViews(min_height=500, sizing_mode=\"stretch_both\")\n",
    "        pn.state.onload(self._onload)\n",
    "    \n",
    "    def _onload(self):\n",
    "        # add interactivity; we use watch because the function does not return anything\n",
    "        pn.bind(self.update_layers, self.product_select, watch=True)\n",
    "        pn.bind(self.update_time, self.layer_select, watch=True)\n",
    "        pn.bind(self.refresh_layer, self.refresh_button, watch=True)\n",
    "\n",
    "        # create imagery\n",
    "        base_map = hv.element.tiles.EsriImagery().opts(\n",
    "            xlim=(XMIN, XMAX), ylim=(YMIN, YMAX), responsive=True\n",
    "        )\n",
    "        self.dynamic_map = hv.DynamicMap(\n",
    "            self.update_web_map, streams=[self.time_slider.param.value_throttled]\n",
    "        )\n",
    "        self.holoviews_pane.object = base_map * self.dynamic_map\n",
    "\n",
    "    def refresh_layer(self, clicks=None):\n",
    "        self.time_slider.param.trigger(\"value_throttled\")\n",
    "\n",
    "    def get_layer(self, product=None, product_layer=None):\n",
    "        product = product or self.product_select.value\n",
    "        if product == \"Miscellaneous\":\n",
    "            layer = product_layer or self.layer_select.value\n",
    "        else:\n",
    "            layer = f\"{product}_{product_layer or self.layer_select.value}\"\n",
    "        return layer\n",
    "\n",
    "    def update_layers(self, product):\n",
    "        product_layers = self.products_layers[product]\n",
    "        self.layer_select.options = sorted(product_layers)\n",
    "\n",
    "    def update_time(self, product_layer):\n",
    "        layer = self.get_layer()\n",
    "        time_positions = self.wms.contents[layer].timepositions\n",
    "        if time_positions:\n",
    "            ini, end, step = time_positions[0].split(\"/\")\n",
    "            try:\n",
    "                freq = pd.Timedelta(step)\n",
    "            except ValueError:\n",
    "                freq = step.lstrip(\"P\")\n",
    "            options = (\n",
    "                pd.date_range(ini, end, freq=freq)\n",
    "                .strftime(\"%Y-%m-%dT%H:%M:%SZ\")\n",
    "                .tolist()\n",
    "            )\n",
    "            if options:\n",
    "                value = options[0]\n",
    "                # value does not trigger; depends on value_throttled\n",
    "                self.time_slider.param.update(options=options, value=value)\n",
    "        else:\n",
    "            # use N/A instead of None to circumvent Panel from crashing\n",
    "            # when going from time-dependent layer to time-independent layer\n",
    "            self.time_slider.options = [\"N/A\"]\n",
    "        self.refresh_layer()\n",
    "\n",
    "    def get_url_template(self, layer, time=None):\n",
    "        get_map_kwargs = dict(\n",
    "            layers=[layer],\n",
    "            srs=\"EPSG:3857\",\n",
    "            bbox=(XMIN, YMIN, XMAX, YMAX),\n",
    "            size=(256, 256),\n",
    "            format=\"image/png\",\n",
    "            transparent=True,\n",
    "            time=time\n",
    "        )\n",
    "        try:\n",
    "            url = self.wms.getmap(**get_map_kwargs).geturl()\n",
    "        except Exception:\n",
    "            get_map_kwargs.pop(\"time\")\n",
    "            url = self.wms.getmap(**get_map_kwargs).geturl()\n",
    "        url_template = (\n",
    "            url.replace(str(XMIN), \"{XMIN}\")\n",
    "            .replace(str(YMIN), \"{YMIN}\")\n",
    "            .replace(str(XMAX), \"{XMAX}\")\n",
    "            .replace(str(YMAX), \"{YMAX}\")\n",
    "        )\n",
    "        return url_template\n",
    "\n",
    "    def update_web_map(self, value_throttled=None):\n",
    "        try:\n",
    "            self.holoviews_pane.loading = True\n",
    "            layer = self.get_layer()\n",
    "            time = self.time_slider.value\n",
    "            if time == \"N/A\":\n",
    "                time = None\n",
    "            url_template = self.get_url_template(layer, time)\n",
    "            layer_meta = self.wms[layer]\n",
    "            self.image_pane.object = layer_meta.styles.get(\"default\", {}).get(\"legend\")\n",
    "            layer_imagery = hv.Tiles(url_template).opts(title=layer_meta.title)\n",
    "        finally:\n",
    "            self.holoviews_pane.loading = False\n",
    "        return layer_imagery\n",
    "\n",
    "    def view(self):\n",
    "        widget_box = pn.WidgetBox(\n",
    "            self.product_select,\n",
    "            self.layer_select,\n",
    "            self.time_slider,\n",
    "            self.image_pane,\n",
    "            self.refresh_button,\n",
    "            pn.Spacer(sizing_mode=\"stretch_height\"),\n",
    "            sizing_mode=\"stretch_both\",\n",
    "            max_width=300,\n",
    "        )\n",
    "        return pn.Row(\n",
    "            widget_box,\n",
    "            self.holoviews_pane,\n",
    "            sizing_mode=\"stretch_both\",\n",
    "            min_height=500,\n",
    "        )\n",
    "\n",
    "\n",
    "explorer = NasaEarthDataGibsWmsExplorer()\n",
    "explorer.view().servable()"
   ]
  },
  {
   "cell_type": "markdown",
   "metadata": {},
   "source": [
    "The provided code allows users to interactively explore various layers of NASA Earth Data imagery.\n",
    "\n",
    "The `NasaEarthDataWmsExplorer` uses `WebMapService` from `OWSLib` ibrary to connect to the NASA Earth Data WMS service. The available layers are retrieved and displayed in a select widget.\n",
    "\n",
    "The explorer provides interactivity through `panel` widgets such as the layer selection dropdown and the time slider.\n",
    "\n",
    "Selecting a layer updates the available time positions for that layer, while changing the time position updates the displayed imagery accordingly. Metadata from the layer is also extracted and displayed below the widgets.\n",
    "\n",
    "The imagery is displayed using the GeoViews library, combined with a coastline feature.\n"
   ]
  },
  {
   "cell_type": "markdown",
   "metadata": {},
   "source": [
    "## Side-by-Side Comparisons\n",
    "\n",
    "After some exploration, I discovered that GPW (Gridded Population of the World) product had four snapshots of population density, in 2000, 2005, 2010, 2020.\n",
    "\n",
    "What if we wanted a closer picture of what changed between 2000 and 2020?\n",
    "\n",
    "First, we can define a helper function, using the methods from the `NasaEarthDataGibsWmsExplorer` class."
   ]
  },
  {
   "cell_type": "code",
   "execution_count": null,
   "metadata": {},
   "outputs": [],
   "source": [
    "def get_web_map(product, product_layer):\n",
    "    return (\n",
    "        gv.WMTS(\n",
    "            explorer.get_url_template(explorer.get_layer(product, product_layer))\n",
    "        ).opts(responsive=True, height=500, title=product_layer, global_extent=True)\n",
    "    )"
   ]
  },
  {
   "cell_type": "markdown",
   "metadata": {},
   "source": [
    "Then, we can layout the Population Density snapshots, side by side.\n",
    "\n",
    "When we zoom in on one, not only does the tiles are updated to show the new resolution, but the others' zoom is also synced, so we can easily compare and contrast specific regions of interest."
   ]
  },
  {
   "cell_type": "code",
   "execution_count": null,
   "metadata": {},
   "outputs": [],
   "source": [
    "pop_density_2000_map = get_web_map(\"GPW\", \"Population_Density_2000\")\n",
    "pop_density_2020_map = get_web_map(\"GPW\", \"Population_Density_2020\")\n",
    "\n",
    "pop_density_2000_map + pop_density_2020_map"
   ]
  },
  {
   "cell_type": "markdown",
   "metadata": {},
   "source": [
    "Upon zooming into specific regions, I realized that it'd be helpful to add borders, coastlines, and labels, so let's update function."
   ]
  },
  {
   "cell_type": "code",
   "execution_count": null,
   "metadata": {},
   "outputs": [],
   "source": [
    "def get_web_map(product, product_layer):\n",
    "    return (\n",
    "        gv.WMTS(\n",
    "            explorer.get_url_template(explorer.get_layer(product, product_layer))\n",
    "        ).opts(responsive=True, height=500, title=product_layer, global_extent=True) *\n",
    "        gv.feature.coastline() * gv.feature.borders() * gv.tile_sources.StamenLabels()\n",
    "    )\n",
    "    \n",
    "pop_density_2000_map = get_web_map(\"GPW\", \"Population_Density_2000\")\n",
    "pop_density_2020_map = get_web_map(\"GPW\", \"Population_Density_2020\")\n",
    "\n",
    "pop_density_2000_map + pop_density_2020_map"
   ]
  },
  {
   "cell_type": "markdown",
   "metadata": {},
   "source": [
    "One interesting thing I noticed was that in Egypt, there was a line of high population density. It'd would be interesting to see if it's because of a water source."
   ]
  },
  {
   "cell_type": "code",
   "execution_count": null,
   "metadata": {},
   "outputs": [],
   "source": [
    "pop_density_2000_map = get_web_map(\"GPW\", \"Population_Density_2000\")\n",
    "water_bodies = get_web_map(\"Miscellaneous\", \"Water Bodies\")\n",
    "xlim = (2735065.540470079, 3886016.688009746)\n",
    "ylim = (2442736.280432458, 3639157.2571363684)\n",
    "\n",
    "pop_density_2000_map.opts(global_extent=False, xlim=xlim, ylim=ylim) + water_bodies"
   ]
  },
  {
   "cell_type": "markdown",
   "metadata": {},
   "source": [
    "Despite the limited visibility of the water body, it appears that areas with high population density in Egypt are associated with the presence of a river."
   ]
  },
  {
   "attachments": {},
   "cell_type": "markdown",
   "metadata": {},
   "source": [
    "## Summary\n",
    "\n",
    "While the standalone capabilities of this custom-built explorer may not rival those of the current WorldView explorer, its true power lies in its ability to incorporate personal data, combine various layers for analysis, and effectively communicate a narrative.\n",
    "\n",
    "What sets this explorer apart and makes it truly captivating and compelling is the seamless integration of personal data.\n",
    "\n",
    "Here are a few ideas to try:\n",
    "- Implementing a search bar feature to easily navigate through the available layers.\n",
    "- Overlaying satellite fire detection layers with other data sets, such as air quality measurements, to gain deeper insights.\n",
    "- Examining the correlation between night lights and population density to uncover interesting patterns and trends.\n",
    "- Tracking changes in land types over the years to observe the evolving landscape.\n",
    "- By incorporating these ideas, the explorer can offer a more comprehensive and dynamic user experience.\n",
    "- Visualizing climate data: Integrate climate data layers such as temperature, precipitation, or wind patterns to understand the relationship between climate and various geographical features.\n",
    "- Analyzing vegetation indices: Incorporate vegetation indices like NDVI (Normalized Difference Vegetation Index) to assess vegetation health and identify areas with dense vegetation or potential vegetation changes.\n",
    "- Mapping infrastructure and urban development: Overlay infrastructure data, such as roads, buildings, and urban areas, to analyze the impact of urbanization on the surrounding environment and land use patterns.\n",
    "- Exploring natural disasters: Incorporate real-time or historical data on natural disasters such as hurricanes, earthquakes, or floods, to study their impact on the affected regions and aid in disaster management and response efforts.\n",
    "- Monitoring water resources: Utilize data on water bodies, water availability, and water quality to assess water resources, identify areas of concern, and track changes over time.\n",
    "- Investigating demographic patterns: Overlay demographic data, such as population density, age groups, or socioeconomic indicators, to study demographic patterns and their spatial relationships with other layers.\n",
    "- Tracking wildlife habitats: Integrate data on wildlife habitats, migration patterns, or conservation areas to gain insights into ecological dynamics and support biodiversity conservation efforts.\n",
    "\n",
    "Furthermore, it's important to note that the functionality of this explorer is not restricted to geographic maps alone. It has the flexibility to incorporate a combination of charts and maps, offering a more diverse and comprehensive data visualization experience.\n",
    "\n",
    "We'd love to see your work showcased on [HoloViz Discourse](https://discourse.holoviz.org/c/showcase/)!"
   ]
  }
 ],
 "metadata": {
  "kernelspec": {
   "display_name": "Python 3.9.6 64-bit",
   "language": "python",
   "name": "python3"
  },
  "language_info": {
   "codemirror_mode": {
    "name": "ipython",
    "version": 3
   },
   "file_extension": ".py",
   "mimetype": "text/x-python",
   "name": "python",
   "nbconvert_exporter": "python",
   "pygments_lexer": "ipython3",
   "version": "3.11.4"
  },
  "nbdime-conflicts": {
   "local_diff": [
    {
     "diff": [
      {
       "diff": [
        {
         "key": 0,
         "op": "addrange",
         "valuelist": [
          "Python 3"
         ]
        },
        {
         "key": 0,
         "length": 1,
         "op": "removerange"
        }
       ],
       "key": "display_name",
       "op": "patch"
      }
     ],
     "key": "kernelspec",
     "op": "patch"
    }
   ],
   "remote_diff": [
    {
     "diff": [
      {
       "diff": [
        {
         "key": 0,
         "op": "addrange",
         "valuelist": [
          "Python3"
         ]
        },
        {
         "key": 0,
         "length": 1,
         "op": "removerange"
        }
       ],
       "key": "display_name",
       "op": "patch"
      }
     ],
     "key": "kernelspec",
     "op": "patch"
    }
   ]
  },
  "toc-autonumbering": false,
  "vscode": {
   "interpreter": {
    "hash": "31f2aee4e71d21fbe5cf8b01ff0e069b9275f58929596ceb00d14d90e3e16cd6"
   }
  }
 },
 "nbformat": 4,
 "nbformat_minor": 4
}
